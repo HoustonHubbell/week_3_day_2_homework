{
 "cells": [
  {
   "cell_type": "markdown",
   "metadata": {},
   "source": [
    "# Object-Oriented-Programming (OOP)"
   ]
  },
  {
   "cell_type": "markdown",
   "metadata": {},
   "source": [
    "## Tasks Today:\n",
    "\n",
    "   \n",
    "\n",
    "1) <b>Creating a Class (Initializing/Declaring)</b> <br>\n",
    "2) <b>Using a Class (Instantiating)</b> <br>\n",
    " &nbsp;&nbsp;&nbsp;&nbsp; a) Creating One Instance <br>\n",
    " &nbsp;&nbsp;&nbsp;&nbsp; b) Creating Multiple Instances <br>\n",
    " &nbsp;&nbsp;&nbsp;&nbsp; c) In-Class Exercise #1 - Create a Class 'Car' and instantiate three different makes of cars <br>\n",
    "3) <b>The \\__init\\__() Method</b> <br>\n",
    " &nbsp;&nbsp;&nbsp;&nbsp; a) The 'self' Attribute <br>\n",
    "4) <b>Class Attributes</b> <br>\n",
    " &nbsp;&nbsp;&nbsp;&nbsp; a) Initializing Attributes <br>\n",
    " &nbsp;&nbsp;&nbsp;&nbsp; b) Setting an Attribute Outside of the \\__init\\__() Method <br>\n",
    " &nbsp;&nbsp;&nbsp;&nbsp; c) Setting Defaults for Attributes <br>\n",
    " &nbsp;&nbsp;&nbsp;&nbsp; d) Accessing Class Attributes <br>\n",
    " &nbsp;&nbsp;&nbsp;&nbsp; e) Changing Class Attributes <br>\n",
    " &nbsp;&nbsp;&nbsp;&nbsp; f) In-Class Exercise #2 - Add a color and wheels attribute to your 'Car' class <br>\n",
    "5) <b>Class Methods</b> <br>\n",
    " &nbsp;&nbsp;&nbsp;&nbsp; a) Creating <br>\n",
    " &nbsp;&nbsp;&nbsp;&nbsp; b) Calling <br>\n",
    " &nbsp;&nbsp;&nbsp;&nbsp; c) Modifying an Attribute's Value Through a Method <br>\n",
    " &nbsp;&nbsp;&nbsp;&nbsp; d) Incrementing an Attribute's Value Through a Method <br>\n",
    " &nbsp;&nbsp;&nbsp;&nbsp; e) In-Class Exercise #3 - Add a method that prints the cars color and wheel number, then call them <br>\n",
    "6) <b>Inheritance</b> <br>\n",
    " &nbsp;&nbsp;&nbsp;&nbsp; a) Syntax for Inheriting from a Parent Class <br>\n",
    " &nbsp;&nbsp;&nbsp;&nbsp; b) The \\__init\\__() Method for a Child Class (super()) <br>\n",
    " &nbsp;&nbsp;&nbsp;&nbsp; c) Defining Attributes and Methods for the Child Class <br>\n",
    " &nbsp;&nbsp;&nbsp;&nbsp; d) Method Overriding <br>\n",
    " &nbsp;&nbsp;&nbsp;&nbsp; e) In-Class Exercise #4 - Create a class 'Ford' that inherits from 'Car' class and initialize it as a Blue Ford Explorer with 4 wheels using the super() method <br>\n",
    "7) <b>Classes as Attributes</b> <br>\n",
    "8) <b>Exercises</b> <br>\n",
    " &nbsp;&nbsp;&nbsp;&nbsp; a) Exercise #1 - Turn the shopping cart program from last week into an object-oriented program <br>"
   ]
  },
  {
   "cell_type": "markdown",
   "metadata": {},
   "source": [
    "## Creating a Class (Initializing/Declaring)\n",
    "<p>When creating a class, function, or even a variable you are initializing that object. Initializing and Declaring occur at the same time in Python, whereas in lower level languages you have to declare an object before initializing it. This is the first step in the process of using a class.</p>"
   ]
  },
  {
   "cell_type": "code",
   "execution_count": 1,
   "metadata": {},
   "outputs": [],
   "source": [
    "class Car():\n",
    "    wheels = 4\n",
    "    color = 'blue'"
   ]
  },
  {
   "cell_type": "markdown",
   "metadata": {},
   "source": [
    "## Using a Class (Instantiating)\n",
    "<p>The process of creating a class is called <i>Instantiating</i>. Each time you create a variable of that type of class, it is referred to as an <i>Instance</i> of that class. This is the second step in the process of using a class.</p>"
   ]
  },
  {
   "cell_type": "markdown",
   "metadata": {},
   "source": [
    "##### Creating One Instance"
   ]
  },
  {
   "cell_type": "code",
   "execution_count": 2,
   "metadata": {},
   "outputs": [
    {
     "name": "stdout",
     "output_type": "stream",
     "text": [
      "4\n"
     ]
    }
   ],
   "source": [
    "ford = Car()\n",
    "print(ford.wheels)\n"
   ]
  },
  {
   "cell_type": "markdown",
   "metadata": {},
   "source": [
    "##### Creating Multiple Instances"
   ]
  },
  {
   "cell_type": "code",
   "execution_count": 3,
   "metadata": {},
   "outputs": [
    {
     "name": "stdout",
     "output_type": "stream",
     "text": [
      "blue\n",
      "4\n",
      "blue\n",
      "4\n"
     ]
    }
   ],
   "source": [
    "lincoln = Car()\n",
    "nissan = Car()\n",
    "mazda = Car()\n",
    "mercedes = Car()\n",
    "\n",
    "print(mazda.color)\n",
    "print(nissan.wheels)\n",
    "print(lincoln.color)\n",
    "print(mercedes.wheels)\n"
   ]
  },
  {
   "cell_type": "markdown",
   "metadata": {},
   "source": [
    "##### In-Class Exercise #1 - Create a Class 'Car' and Instantiate three different makes of cars"
   ]
  },
  {
   "cell_type": "code",
   "execution_count": 8,
   "metadata": {},
   "outputs": [
    {
     "name": "stdout",
     "output_type": "stream",
     "text": [
      "blue\n",
      "sudan\n",
      "4\n"
     ]
    }
   ],
   "source": [
    "class Cars():\n",
    "    wheels = 4\n",
    "    color = 'black', 'gray', 'blue', 'green'\n",
    "    model = 'sudan'\n",
    "    \n",
    "lincoln = Cars()\n",
    "ford = Cars()\n",
    "chevy = Cars()\n",
    "\n",
    "print(lincoln.color[2])\n",
    "print(ford.model)\n",
    "print(chevy.wheels)"
   ]
  },
  {
   "cell_type": "markdown",
   "metadata": {},
   "source": [
    "## The \\__init\\__() Method <br>\n",
    "<p>This method is used in almost every created class, and called only once upon the creation of the class instance. This method will initialize all variables needed for the object.</p>"
   ]
  },
  {
   "cell_type": "code",
   "execution_count": 10,
   "metadata": {},
   "outputs": [
    {
     "name": "stdout",
     "output_type": "stream",
     "text": [
      "4\n",
      "red\n",
      "blue\n",
      "silver\n"
     ]
    }
   ],
   "source": [
    "class Car():\n",
    "    ENGINE = '4.7L'\n",
    "    def __init__(self, wheels, color):\n",
    "        self.wheels = wheels\n",
    "        self.color = color\n",
    "ford = Car(4, \"red\")\n",
    "print(ford.wheels)\n",
    "print(ford.color)\n",
    "\n",
    "mazda = Car(4, 'blue')\n",
    "mercedes = Car(6, 'silver')\n",
    "\n",
    "print(mazda.color)\n",
    "print(mercedes.color)"
   ]
  },
  {
   "cell_type": "markdown",
   "metadata": {},
   "source": [
    "##### The 'self' Attribute <br>\n",
    "<p>This attribute is required to keep track of specific instance's attributes. Without the self attribute, the program would not know how to reference or keep track of an instance's attributes.</p>"
   ]
  },
  {
   "cell_type": "code",
   "execution_count": null,
   "metadata": {},
   "outputs": [],
   "source": [
    "# see above"
   ]
  },
  {
   "cell_type": "markdown",
   "metadata": {},
   "source": [
    "## Class Attributes <br>\n",
    "<p>While variables are inside of a class, they are referred to as attributes and not variables. When someone says 'attribute' you know they're speaking about a class. Attributes can be initialized through the init method, or outside of it.</p>"
   ]
  },
  {
   "cell_type": "markdown",
   "metadata": {},
   "source": [
    "##### Initializing Attributes"
   ]
  },
  {
   "cell_type": "code",
   "execution_count": 11,
   "metadata": {},
   "outputs": [],
   "source": [
    "# see above\n",
    "class Toy():\n",
    "    TYPE = \"Sock Em Boppers\"\n",
    "    def __init__(self, color, size, weight):\n",
    "        self.color = color\n",
    "        self.size = size\n",
    "        self.weight = weight\n",
    "        \n",
    "boppers_1 = Toy('purple', 'large', '5oz')\n",
    "boppers_2 = Toy('yellow', 'small', '2oz')\n"
   ]
  },
  {
   "cell_type": "markdown",
   "metadata": {},
   "source": [
    "##### Accessing Class Attributes"
   ]
  },
  {
   "cell_type": "code",
   "execution_count": 12,
   "metadata": {
    "scrolled": true
   },
   "outputs": [
    {
     "name": "stdout",
     "output_type": "stream",
     "text": [
      "purple\n",
      "small\n",
      "2oz\n"
     ]
    }
   ],
   "source": [
    "# See Above\n",
    "print(boppers_1.color)\n",
    "print(boppers_2.size)\n",
    "print(boppers_2.weight)"
   ]
  },
  {
   "cell_type": "markdown",
   "metadata": {},
   "source": [
    "##### Setting Defaults for Attributes"
   ]
  },
  {
   "cell_type": "code",
   "execution_count": 13,
   "metadata": {},
   "outputs": [
    {
     "name": "stdout",
     "output_type": "stream",
     "text": [
      "4\n",
      "6\n",
      "blue\n",
      "4.7L\n"
     ]
    }
   ],
   "source": [
    "class Car():\n",
    "    ENGINE = '4.7L'\n",
    "    \n",
    "    def __init__(self, wheels):\n",
    "        self.wheels = wheels\n",
    "        self.color = 'blue'\n",
    "        \n",
    "honda = Car(4)\n",
    "hummer = Car(6)\n",
    "print(honda.wheels)\n",
    "print(hummer.wheels)\n",
    "print(honda.color)\n",
    "print(hummer.ENGINE)\n"
   ]
  },
  {
   "cell_type": "markdown",
   "metadata": {},
   "source": [
    "##### Changing Class Attributes <br>\n",
    "<p>Keep in mind there are global class attributes and then there are attributes only available to each class instance which won't effect other classes.</p>"
   ]
  },
  {
   "cell_type": "code",
   "execution_count": 16,
   "metadata": {},
   "outputs": [
    {
     "name": "stdout",
     "output_type": "stream",
     "text": [
      "white\n",
      "white\n",
      "8\n",
      "8\n"
     ]
    },
    {
     "data": {
      "text/plain": [
       "{'wheels': 8, 'color': 'blue'}"
      ]
     },
     "execution_count": 16,
     "metadata": {},
     "output_type": "execute_result"
    }
   ],
   "source": [
    "#Changing default attribute\n",
    "print(honda.color)\n",
    "honda.color = \"white\"\n",
    "print(honda.color)\n",
    "\n",
    "print(hummer.wheels)\n",
    "hummer.wheels = 8\n",
    "print(hummer.wheels)\n",
    "\n",
    "hummer.__dict__\n"
   ]
  },
  {
   "cell_type": "code",
   "execution_count": null,
   "metadata": {},
   "outputs": [],
   "source": [
    "class Car():\n",
    "    def __init__(self, doors, seats)"
   ]
  },
  {
   "cell_type": "markdown",
   "metadata": {},
   "source": [
    "##### In-Class Exercise #2 - Add a doors and seats attribute to your 'Car' class then print out two different instances with different doors and seats"
   ]
  },
  {
   "cell_type": "code",
   "execution_count": 32,
   "metadata": {},
   "outputs": [
    {
     "name": "stdout",
     "output_type": "stream",
     "text": [
      "4\n",
      "5\n",
      "6\n",
      "green\n",
      "4\n",
      "black\n"
     ]
    }
   ],
   "source": [
    "class Car():\n",
    "    \n",
    "    def __init__(self, doors, seats):\n",
    "        self.doors = doors\n",
    "        self.seats = seats\n",
    "        self.color = 'green'\n",
    "        self.wheels = 4\n",
    "        \n",
    "jeep = Car(4, 5)\n",
    "print(jeep.doors)\n",
    "print(jeep.seats)\n",
    "honda = Car(4, 6)\n",
    "print(honda.seats)\n",
    "print(jeep.color)\n",
    "print(jeep.wheels)\n",
    "jeep.color = 'black'\n",
    "print(jeep.color)"
   ]
  },
  {
   "cell_type": "markdown",
   "metadata": {},
   "source": [
    "## Class Methods <br>\n",
    "<p>While inside of a class, functions are referred to as 'methods'. If you hear someone mention methods, they're speaking about classes. Methods are essentially functions, but only callable on the instances of a class.</p>"
   ]
  },
  {
   "cell_type": "markdown",
   "metadata": {},
   "source": [
    "##### Creating"
   ]
  },
  {
   "cell_type": "code",
   "execution_count": 36,
   "metadata": {},
   "outputs": [],
   "source": [
    "class Bus():\n",
    "    \"\"\"\n",
    "    The bus will have doors, seats, seats available, color, and a bus driver\n",
    "    \n",
    "    Attributes for the class:\n",
    "    -doors: expected to be an integer\n",
    "    -seats: integer\n",
    "    -seats available: integer\n",
    "    -color: string\n",
    "    -bus driver: string\n",
    "    \"\"\"\n",
    "    def __init__(self, doors, seats, seats_available, color, bus_driver):\n",
    "        self.doors = doors\n",
    "        self.seats = seats\n",
    "        self.seats_available = seats_available\n",
    "        self.color = color\n",
    "        self.bus_driver = bus_driver\n",
    "        \n",
    "    def load_passengers(self):\n",
    "        if self.seats_available <= 0:\n",
    "            print(\"Bus is Full\")\n",
    "        else:\n",
    "            passengers = int(input(\"How many people getting on?\"))\n",
    "            self.seats_available -= passengers\n",
    "            print(f\"{passengers} seats have been taken there are {self.seats_available} seats left\")\n",
    "                \n",
    "    def unload_passengers(self):\n",
    "        if self.seats_available >= self.seats:\n",
    "            print(\"There is no one left on the bus\")\n",
    "            self.seats_available = self.seats\n",
    "        else:\n",
    "            unload = int(input(\"How many passengers are getting off?\"))\n",
    "            self.seats_available += unload\n",
    "            if self.seats_available >= self.seats:\n",
    "                self.seats_available = self.seats\n",
    "                print(f\"{unload} passengers have left the bus. There are {self.seats_available} unoccupied seats.\")\n",
    "            print(f\"{unload} passengers have left the bus. There are {self.seats_available} unoccupied seats.\")\n",
    "    def change_driver(self):\n",
    "        change = input(\"Who is replacing you?\")\n",
    "        self.bus_driver = change\n",
    "        print(f\"The new driver is {self.bus_driver}\")\n",
    "        \n",
    "    def check_seats(self):\n",
    "        print(self.seats_available)\n",
    "        \n",
    "hootie_bus = Bus(2, 90, 45, 'yellow', 'Hootie')\n",
    "    \n",
    "            \n",
    "    "
   ]
  },
  {
   "cell_type": "markdown",
   "metadata": {},
   "source": [
    "##### Calling"
   ]
  },
  {
   "cell_type": "code",
   "execution_count": null,
   "metadata": {},
   "outputs": [],
   "source": [
    "def run():\n",
    "    while True:\n",
    "        response = input(\"What would you like to do? Load/Unload/changeDriver/check seats/Quit\")\n",
    "        if response.lower() == 'quit':\n",
    "            print('You are not done')\n",
    "            break\n",
    "        elif response.lower() == 'load':\n",
    "            hootie_bus.load_passengers()\n",
    "        \n",
    "        elif response.lower() == 'unload':\n",
    "            hootie_bus.unload_passengers()\n",
    "            \n",
    "        elif response.lower() == 'change driver':\n",
    "            hootie_bus.change_driver()\n",
    "            \n",
    "        elif response.lower() == 'check seats':\n",
    "            hootie_bus.check_seats()\n",
    "            \n",
    "        else:\n",
    "            print(\"this is not an option\")\n",
    "            \n",
    "run()"
   ]
  },
  {
   "cell_type": "markdown",
   "metadata": {},
   "source": [
    "##### Modifying an Attribute's Value Through a Method"
   ]
  },
  {
   "cell_type": "code",
   "execution_count": null,
   "metadata": {},
   "outputs": [],
   "source": []
  },
  {
   "cell_type": "markdown",
   "metadata": {},
   "source": [
    "##### Incrementing an Attribute's Value Through a Method"
   ]
  },
  {
   "cell_type": "code",
   "execution_count": null,
   "metadata": {},
   "outputs": [],
   "source": []
  },
  {
   "cell_type": "markdown",
   "metadata": {},
   "source": [
    "##### In-Class Exercise #3 - Add a method that takes in three parameters of year, doors and seats and prints out a formatted print statement with make, model, year, seats, and doors"
   ]
  },
  {
   "cell_type": "code",
   "execution_count": 47,
   "metadata": {},
   "outputs": [
    {
     "name": "stdout",
     "output_type": "stream",
     "text": [
      "21000\n"
     ]
    }
   ],
   "source": [
    "# Create class with 2 paramters inside of the __init__ which are make and model\n",
    "\n",
    "# Inside of the Car class create a method that has 4 parameter in total (self,year,door,seats, age)\n",
    "\n",
    "# Output: This car is from 2019 and is a Ford Expolorer and has 4 doors and 5 seats\n",
    "\n",
    "# create method to incriment cars age\n",
    "\n",
    "class Vehicle():\n",
    "    def __init__(self, make, model, year, doors, seats, miles):\n",
    "        self.make = make\n",
    "        self.model = model\n",
    "        self.year = year\n",
    "        self.doors = doors\n",
    "        self.seats = seats\n",
    "        self.miles = miles\n",
    "        \n",
    "    def road_trip(self, distance):\n",
    "        self.miles += distance\n",
    "        print(self.miles)\n",
    "        \n",
    "my_car = Vehicle('lincoln', 'zephyr', 2006, 4, 5, 20000)\n",
    "\n",
    "my_car.road_trip(1000)\n",
    "\n",
    "\n",
    "        \n",
    "        \n"
   ]
  },
  {
   "cell_type": "markdown",
   "metadata": {},
   "source": [
    "## Inheritance <br>\n",
    "<p>You can create a child-parent relationship between two classes by using inheritance. What this allows you to do is have overriding methods, but also inherit traits from the parent class. Think of it as an actual parent and child, the child will inherit the parent's genes, as will the classes in OOP</p>"
   ]
  },
  {
   "cell_type": "markdown",
   "metadata": {},
   "source": [
    "##### Syntax for Inheriting from a Parent Class"
   ]
  },
  {
   "cell_type": "code",
   "execution_count": 61,
   "metadata": {},
   "outputs": [
    {
     "name": "stdout",
     "output_type": "stream",
     "text": [
      "Chester\n",
      "9.8\n",
      "Lassie\n",
      "15\n",
      "9.8\n",
      "reeee\n",
      "Missy\n",
      "ruff ruff\n",
      "15\n"
     ]
    }
   ],
   "source": [
    "class Animal():\n",
    "    ACCELERATION = 9.8\n",
    "    \n",
    "    def __init__(self, name, species, legs=4):\n",
    "        self.name = name\n",
    "        self.species = species\n",
    "        self.legs = legs\n",
    "        \n",
    "    def make_sound(self):\n",
    "        print(\"reeee\")\n",
    "        \n",
    "class Dog(Animal):\n",
    "    SPEED = 15\n",
    "    \n",
    "    def printInfo(self):\n",
    "        print(f\"The dog runs at {self.SPEED} mph and accelerates at {self.ACCELERATION} mps\")\n",
    "        \n",
    "class Mut(Dog):\n",
    "    COLOR = \"black and brown\"\n",
    "    \n",
    "    def __init__(self, name, species, eyes, legs=4):\n",
    "        Dog.__init__(self, name, species, legs)\n",
    "        self.eyes = eyes\n",
    "        \n",
    "    def makesound(self):\n",
    "        print(\"ruff ruff\")\n",
    "        \n",
    "cheetah = Animal(\"Chester\", 'cheetah')\n",
    "print(cheetah.name)\n",
    "print(cheetah.ACCELERATION)\n",
    "lassie = Dog('Lassie', 'Dog')\n",
    "print(lassie.name)\n",
    "print(lassie.SPEED)\n",
    "print(lassie.ACCELERATION)\n",
    "lassie.make_sound()\n",
    "\n",
    "missy = Mut('Missy', 'Dog', 'white')\n",
    "print(missy.name)\n",
    "missy.makesound()\n",
    "print(missy.SPEED)\n"
   ]
  },
  {
   "cell_type": "markdown",
   "metadata": {},
   "source": [
    "##### The \\__init\\__() Method for a Child Class - super()"
   ]
  },
  {
   "cell_type": "code",
   "execution_count": 62,
   "metadata": {
    "scrolled": true
   },
   "outputs": [
    {
     "name": "stdout",
     "output_type": "stream",
     "text": [
      "woof\n",
      "15\n",
      "The dog runs at 15 mph and accelerates at 9.8 mps\n"
     ]
    }
   ],
   "source": [
    "class Mut(Dog):\n",
    "    color = 'white'\n",
    "    \n",
    "    def __init__(self, name, species, eyes, legs=4):\n",
    "        super().__init__(name, species, legs)\n",
    "        self.eyes = eyes\n",
    "        \n",
    "    def makesound(self):\n",
    "        print(\"woof\")\n",
    "        \n",
    "bella = Mut('bella', 'dog','brown')\n",
    "\n",
    "bella.makesound()\n",
    "print(bella.SPEED)\n",
    "bella.printInfo()\n"
   ]
  },
  {
   "cell_type": "markdown",
   "metadata": {},
   "source": [
    "##### Defining Attributes and Methods for the Child Class"
   ]
  },
  {
   "cell_type": "code",
   "execution_count": null,
   "metadata": {},
   "outputs": [],
   "source": [
    "# See Above"
   ]
  },
  {
   "cell_type": "markdown",
   "metadata": {},
   "source": [
    "##### Method Overriding"
   ]
  },
  {
   "cell_type": "code",
   "execution_count": null,
   "metadata": {},
   "outputs": [],
   "source": [
    "# See Above"
   ]
  },
  {
   "cell_type": "markdown",
   "metadata": {},
   "source": [
    "## Classes as Attributes <br>\n",
    "<p>Classes can also be used as attributes within another class. This is useful in situations where you need to keep variables locally stored, instead of globally stored.</p>"
   ]
  },
  {
   "cell_type": "code",
   "execution_count": 65,
   "metadata": {},
   "outputs": [
    {
     "name": "stdout",
     "output_type": "stream",
     "text": [
      "20\n",
      "2015 Mazda crossover 7.8\n"
     ]
    }
   ],
   "source": [
    "class Battery():\n",
    "    VOLTZ = 7.8\n",
    "        \n",
    "    def __init__(self, cells):\n",
    "        self.cells = cells\n",
    "        \n",
    "class Car():\n",
    "    def __init__(self, year, make, model, battery):\n",
    "        self.year = year\n",
    "        self.make = make\n",
    "        self.model = model\n",
    "        self.battery = battery\n",
    "        \n",
    "    def printInfo(self):\n",
    "        print(f\"{self.year} {self.make} {self.model} {battery.VOLTZ}\")\n",
    "battery = Battery(20)\n",
    "\n",
    "print(battery.cells)\n",
    "\n",
    "mazda = Car(2015, 'Mazda', 'crossover', battery)\n",
    "\n",
    "mazda.printInfo()\n",
    "\n"
   ]
  },
  {
   "cell_type": "markdown",
   "metadata": {},
   "source": [
    "# Exercises"
   ]
  },
  {
   "cell_type": "markdown",
   "metadata": {},
   "source": [
    "### Exercise 1 - Turn the shopping cart program from yesterday into an object-oriented program\n",
    "\n",
    "The comments in the cell below are there as a guide for thinking about the problem. However, if you feel a different way is best for you and your own thought process, please do what feels best for you by all means."
   ]
  },
  {
   "cell_type": "code",
   "execution_count": 69,
   "metadata": {},
   "outputs": [
    {
     "name": "stdout",
     "output_type": "stream",
     "text": [
      "Would you like to: Show/Add/Delete or Quit? quit\n"
     ]
    }
   ],
   "source": [
    "# Create a class called cart that retains items and has methods to add, remove, and show\n",
    "\n",
    "class Cart():\n",
    "    def __init__(self):\n",
    "        self.item = {}\n",
    "\n",
    "    def add_item(self):\n",
    "        add_item = input(\"What would you like to buy?\")\n",
    "        count_item = input(\"How many would you like?\")\n",
    "        self.item[add_item] = count_item\n",
    "\n",
    "    def remove_item(self):\n",
    "        remove_item = input(\"What would you like to put back?\")\n",
    "        del self.item[remove_item]\n",
    "\n",
    "    def show_cart(self):\n",
    "        print(self.item)\n",
    "\n",
    "my_cart = Cart()\n",
    "\n",
    "\n",
    "def run():\n",
    "    while True:\n",
    "        action = input(\"Would you like to: Show/Add/Delete or Quit? \")\n",
    "        if action.lower() == 'quit':\n",
    "            break\n",
    "        elif action.lower() == 'add':\n",
    "            my_cart.add_item()\n",
    "        elif action.lower() == 'delete':\n",
    "            my_cart.remove_item()\n",
    "        elif action.lower() == 'show':\n",
    "            my_cart.show_cart()\n",
    "\n",
    "run()\n",
    "    "
   ]
  },
  {
   "cell_type": "markdown",
   "metadata": {},
   "source": [
    "### Exercise 2 - Write a Python class which has two methods get_String and print_String. get_String accept a string from the user and print_String print the string in upper case"
   ]
  },
  {
   "cell_type": "code",
   "execution_count": 71,
   "metadata": {},
   "outputs": [
    {
     "name": "stdout",
     "output_type": "stream",
     "text": [
      "What is your phrase?Hootie rules\n",
      "HOOTIE RULES\n"
     ]
    }
   ],
   "source": [
    "class Phrase():\n",
    "    def __init__(self):\n",
    "        self.string = \"\"\n",
    "        \n",
    "    def get_string(self):\n",
    "        self.string = input(\"What is your phrase?\")\n",
    "        \n",
    "    def print_string(self):\n",
    "        print(self.string.upper())\n",
    "        \n",
    "my_string = Phrase()\n",
    "my_string.get_string()\n",
    "my_string.print_string()\n"
   ]
  },
  {
   "cell_type": "code",
   "execution_count": null,
   "metadata": {},
   "outputs": [],
   "source": []
  }
 ],
 "metadata": {
  "kernelspec": {
   "display_name": "Python 3 (ipykernel)",
   "language": "python",
   "name": "python3"
  },
  "language_info": {
   "codemirror_mode": {
    "name": "ipython",
    "version": 3
   },
   "file_extension": ".py",
   "mimetype": "text/x-python",
   "name": "python",
   "nbconvert_exporter": "python",
   "pygments_lexer": "ipython3",
   "version": "3.9.10"
  }
 },
 "nbformat": 4,
 "nbformat_minor": 2
}
